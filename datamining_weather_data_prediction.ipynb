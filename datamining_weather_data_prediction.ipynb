{
 "cells": [
  {
   "cell_type": "code",
   "execution_count": 12,
   "id": "5dea58f2-800a-4e63-87cb-980d4e5f49cc",
   "metadata": {},
   "outputs": [],
   "source": [
    "import meteostat\n",
    "from meteostat import Point, Daily\n",
    "import pandas as pd\n",
    "from datetime import datetime\n"
   ]
  },
  {
   "cell_type": "code",
   "execution_count": 20,
   "id": "9576ec53-e73a-41f9-b10e-3940468287a1",
   "metadata": {},
   "outputs": [],
   "source": [
    "sudbury = Point(46.49, -80.99)\n",
    "\n",
    "# for last 5 years\n",
    "start = datetime(2019, 1, 1)\n",
    "end = datetime(2023, 12, 31)\n"
   ]
  },
  {
   "cell_type": "code",
   "execution_count": 23,
   "id": "28b40fa1-0a40-4d75-88c4-dd1fb4243d78",
   "metadata": {},
   "outputs": [
    {
     "name": "stdout",
     "output_type": "stream",
     "text": [
      "            tavg  tmin  tmax  prcp   snow   wdir  wspd  wpgt    pres  tsun  \\\n",
      "time                                                                         \n",
      "2019-01-01 -15.4 -22.3  -8.5   6.4  370.0  345.0  18.9  54.0  1020.9   NaN   \n",
      "2019-01-02 -19.3 -27.4 -11.2   0.4  370.0  152.0  11.1   NaN  1023.2   NaN   \n",
      "2019-01-03  -6.1 -11.3  -0.8   4.0  390.0  214.0  13.8  46.0  1008.6   NaN   \n",
      "2019-01-04  -0.5  -1.7   0.8   0.0  400.0  234.0  14.5  41.0  1003.7   NaN   \n",
      "2019-01-05  -3.3  -5.8  -0.8   0.4  370.0    NaN   7.8   NaN  1006.1   NaN   \n",
      "\n",
      "                 time  \n",
      "time                   \n",
      "2019-01-01 2019-01-01  \n",
      "2019-01-02 2019-01-02  \n",
      "2019-01-03 2019-01-03  \n",
      "2019-01-04 2019-01-04  \n",
      "2019-01-05 2019-01-05  \n"
     ]
    }
   ],
   "source": [
    "# Fetching daily weather data for Sudbury\n",
    "weather_data = Daily(sudbury, start, end)\n",
    "weather_data = weather_data.fetch()\n",
    "\n",
    "# Converting to DataFrame for easy manipulation\n",
    "df = pd.DataFrame(weather_data)\n",
    "\n",
    "# Parsing the 'time' column explicitly to datetime\n",
    "df['time'] = pd.to_datetime(df.index)\n",
    "\n",
    "# Printing the first few rows of data to verify\n",
    "print(df.head())\n"
   ]
  },
  {
   "cell_type": "code",
   "execution_count": 22,
   "id": "2f2879fc-eec8-4a71-b67c-be4aba66fdc3",
   "metadata": {},
   "outputs": [
    {
     "name": "stdout",
     "output_type": "stream",
     "text": [
      "            tavg  tmin  tmax  prcp   snow   wdir  wspd  wpgt    pres  tsun  \\\n",
      "time                                                                         \n",
      "2019-01-01 -15.4 -22.3  -8.5   6.4  370.0  345.0  18.9  54.0  1020.9   NaN   \n",
      "2019-01-02 -19.3 -27.4 -11.2   0.4  370.0  152.0  11.1   NaN  1023.2   NaN   \n",
      "2019-01-03  -6.1 -11.3  -0.8   4.0  390.0  214.0  13.8  46.0  1008.6   NaN   \n",
      "2019-01-04  -0.5  -1.7   0.8   0.0  400.0  234.0  14.5  41.0  1003.7   NaN   \n",
      "2019-01-05  -3.3  -5.8  -0.8   0.4  370.0    NaN   7.8   NaN  1006.1   NaN   \n",
      "\n",
      "                 time  \n",
      "time                   \n",
      "2019-01-01 2019-01-01  \n",
      "2019-01-02 2019-01-02  \n",
      "2019-01-03 2019-01-03  \n",
      "2019-01-04 2019-01-04  \n",
      "2019-01-05 2019-01-05  \n"
     ]
    }
   ],
   "source": [
    "import meteostat\n",
    "from meteostat import Point, Daily\n",
    "import pandas as pd\n",
    "from datetime import datetime\n",
    "\n",
    "sudbury = Point(46.49, -80.99)\n",
    "\n",
    "# Define the time period for last 5 years\n",
    "start = datetime(2019, 1, 1)\n",
    "end = datetime(2023, 12, 31)\n",
    "\n",
    "weather_data = Daily(sudbury, start, end)\n",
    "weather_data = weather_data.fetch()\n",
    "\n",
    "df = pd.DataFrame(weather_data)\n",
    "df['time'] = pd.to_datetime(df.index)\n",
    "\n",
    "print(df.head())\n",
    "\n",
    "df.to_csv('sudbury_weather_data.csv', index=False)\n"
   ]
  },
  {
   "cell_type": "code",
   "execution_count": 6,
   "id": "ae51e962-4c85-4861-b366-81295034aa08",
   "metadata": {},
   "outputs": [
    {
     "name": "stdout",
     "output_type": "stream",
     "text": [
      "C:\\Users\\Aanchal\n"
     ]
    }
   ],
   "source": [
    "import os\n",
    "print(os.getcwd())\n"
   ]
  },
  {
   "cell_type": "code",
   "execution_count": null,
   "id": "c1f120fe-ffa9-4d9a-ba6e-66cd1ad433a9",
   "metadata": {},
   "outputs": [],
   "source": []
  }
 ],
 "metadata": {
  "kernelspec": {
   "display_name": "Python 3 (ipykernel)",
   "language": "python",
   "name": "python3"
  },
  "language_info": {
   "codemirror_mode": {
    "name": "ipython",
    "version": 3
   },
   "file_extension": ".py",
   "mimetype": "text/x-python",
   "name": "python",
   "nbconvert_exporter": "python",
   "pygments_lexer": "ipython3",
   "version": "3.11.8"
  }
 },
 "nbformat": 4,
 "nbformat_minor": 5
}
